{
  "cells": [
    {
      "cell_type": "markdown",
      "metadata": {
        "id": "view-in-github",
        "colab_type": "text"
      },
      "source": [
        "<a href=\"https://colab.research.google.com/github/ck1972/Hands-On-GeoAI1/blob/main/GeoAI_Lab_1_Getting_Started_with_Earth_Engine_in_Python.ipynb\" target=\"_parent\"><img src=\"https://colab.research.google.com/assets/colab-badge.svg\" alt=\"Open In Colab\"/></a>"
      ]
    },
    {
      "cell_type": "markdown",
      "metadata": {
        "id": "SncSpvGm2VUS"
      },
      "source": [
        "# **Lab 1. Getting Started with Earth Engine in Python**\n",
        "## Introduction\n",
        "This lab introduces participants to the Google Earth Engine (GEE) Python API for accessing, filtering, visualizing, and analyzing satellite imagery. It provides hands-on experience with remote sensing datasets from multiple satellite missions. It helps participants become comfortable loading geographic boundaries, selecting image collections, and displaying satellite composites interactively using the geemap library.\n",
        "\n",
        "### Aim\n",
        "To provide a practical introduction to the GEE Python API and build foundational skills in accessing and visualizing multi-sensor Earth observation data for geospatial analysis.\n",
        "\n",
        "### Objectives\n",
        "By the end of this lab, participants will be able to:\n",
        "*   Authenticate and initialize the GEE Python API using geemap.\n",
        "*   Load and filter administrative boundary datasets using GeoBoundaries.\n",
        "*   Access and visualize multispectral and radar satellite data, including Sentinel-2, Sentinel-1, Landsat 9, and ALOS PALSAR-2.\n",
        "*   Visualize ESA WorldCover land cover maps with a legend."
      ]
    },
    {
      "cell_type": "markdown",
      "metadata": {
        "id": "DoerQ1ama7Fh"
      },
      "source": [
        "# Initialize and Authenticate Earth Engine\n",
        "To get started with Google Earth Engine (GEE), you need to initialize and authenticate the Earth Engine API. Follow these steps.\n",
        "\n",
        "\n",
        "First, import the Earth Engine API by importing the ee module into your Python environment. This module allows you to interact with the Earth Engine platform.\n"
      ]
    },
    {
      "cell_type": "code",
      "execution_count": 1,
      "metadata": {
        "id": "7a6_vlZcOZPU"
      },
      "outputs": [],
      "source": [
        "# Import the API\n",
        "import ee\n",
        "\n",
        "# Import the geemap library\n",
        "import geemap"
      ]
    },
    {
      "cell_type": "markdown",
      "metadata": {
        "id": "8V9idAmhc8X7"
      },
      "source": [
        "Next, initialize the Earth Engine API. You must initialize the API to use Earth Engine functionalities. This involves authenticating your session and initializing the library. When you run the ee.Initialize() command for the first time, you might be prompted to authenticate your session. This will open a web browser window where you need to log in with your Google account and grant Earth Engine access."
      ]
    },
    {
      "cell_type": "code",
      "execution_count": 2,
      "metadata": {
        "id": "0hGRqMB4PN7N",
        "colab": {
          "base_uri": "https://localhost:8080/",
          "height": 17
        },
        "outputId": "7785f463-7d6b-4c31-c8f4-0b221a2bce6b"
      },
      "outputs": [
        {
          "output_type": "display_data",
          "data": {
            "text/plain": [
              "<IPython.core.display.HTML object>"
            ],
            "text/html": [
              "\n",
              "            <style>\n",
              "                .geemap-dark {\n",
              "                    --jp-widgets-color: white;\n",
              "                    --jp-widgets-label-color: white;\n",
              "                    --jp-ui-font-color1: white;\n",
              "                    --jp-layout-color2: #454545;\n",
              "                    background-color: #383838;\n",
              "                }\n",
              "\n",
              "                .geemap-dark .jupyter-button {\n",
              "                    --jp-layout-color3: #383838;\n",
              "                }\n",
              "\n",
              "                .geemap-colab {\n",
              "                    background-color: var(--colab-primary-surface-color, white);\n",
              "                }\n",
              "\n",
              "                .geemap-colab .jupyter-button {\n",
              "                    --jp-layout-color3: var(--colab-primary-surface-color, white);\n",
              "                }\n",
              "            </style>\n",
              "            "
            ]
          },
          "metadata": {}
        }
      ],
      "source": [
        "# Trigger the authentication flow.\n",
        "ee.Authenticate()\n",
        "\n",
        "# Initialize the library.\n",
        "ee.Initialize(project='ee-kamusoko-test') # Change to your EE project"
      ]
    },
    {
      "cell_type": "markdown",
      "source": [
        "## Define the boundary\n",
        "First, we define an area of interest by creating a boundary using the Comprehensive Global Administrative Zones (CGAZ) dataset from the\n",
        "awesome-gee-community-catalog (https://gee-community-catalog.org/projects/geoboundary/)."
      ],
      "metadata": {
        "id": "nMOLzWiNHFUD"
      }
    },
    {
      "cell_type": "code",
      "source": [
        "# Load the GeoBoundaries administrative boundaries datasets\n",
        "admin0 = ee.FeatureCollection(\"projects/sat-io/open-datasets/geoboundaries/CGAZ_ADM0\")\n",
        "admin1 = ee.FeatureCollection(\"projects/sat-io/open-datasets/geoboundaries/CGAZ_ADM1\")\n",
        "admin2 = ee.FeatureCollection(\"projects/sat-io/open-datasets/geoboundaries/CGAZ_ADM2\")\n",
        "\n",
        "# Check available country names (run this once to inspect)\n",
        "country_names = admin0.aggregate_array('shapeName').distinct().getInfo()\n",
        "print('Country names:', country_names)\n",
        "\n",
        "# Filter the admin0 collection for area of interests (e.g., country) using the exact name.\n",
        "# Update the name as needed based on the country name in the dataset.\n",
        "admin0 = admin0.filter(ee.Filter.eq('shapeName', 'Malaysia'))\n",
        "print('Admin0 for Malaysia count:', admin0.size().getInfo())\n",
        "\n",
        "# Get the Country's unique shapeID from the admin0 collection\n",
        "shape_id = ee.Feature(admin0.first()).get('shapeID')\n",
        "print('Malaysia shapeID:', shape_id.getInfo())\n",
        "\n",
        "# Filter the admin1 collection for features belonging to country using the ADM0_shape field\n",
        "admin1 = admin1.filter(ee.Filter.eq('ADM0_shape', shape_id))\n",
        "print('Admin1 for Malaysia count:', admin1.size().getInfo())\n",
        "\n",
        "# Filter the admin2 collection for features that belong to Malaysia based on the admin1 shapeIDs\n",
        "admin1_ids = admin1.aggregate_array('shapeID')\n",
        "admin2 = admin2.filter(ee.Filter.inList('ADM1_shape', admin1_ids))\n",
        "print('Admin2 for Malaysia count:', admin2.size().getInfo())\n",
        "\n",
        "# Create an interactive map centered on Sri Lanka (approximate center)\n",
        "Map = geemap.Map(center=[1.4854, 103.7618], zoom=6)\n",
        "\n",
        "# Add layers to the map\n",
        "Map.addLayer(admin0, {'color': 'red'}, 'Malaysia Admin0')\n",
        "Map.addLayer(admin1, {'color': 'blue'}, 'Malaysia Admin1')\n",
        "Map.addLayer(admin2, {'color': 'green'}, 'Malaysia Admin2')\n",
        "\n",
        "# Display the map\n",
        "Map"
      ],
      "metadata": {
        "id": "w03azv7bN8S8"
      },
      "execution_count": null,
      "outputs": []
    },
    {
      "cell_type": "markdown",
      "source": [
        "## Display Johor State boundary\n",
        "Next, load the administrative boundaries from the GeoBoundaries dataset, filters for Johor State in Malaysia, and visualizes its boundary on an interactive map using the geemap library."
      ],
      "metadata": {
        "id": "lVOhuxS-SjA4"
      }
    },
    {
      "cell_type": "code",
      "source": [
        "# Load the GeoBoundaries administrative boundaries datasets\n",
        "admin1 = ee.FeatureCollection(\"projects/sat-io/open-datasets/geoboundaries/CGAZ_ADM1\")\n",
        "\n",
        "# Filter the admin2 collection.\n",
        "# You might need to adjust the name according to the dataset.\n",
        "boundary = admin1.filter(ee.Filter.eq('shapeName', 'Johor'))\n",
        "\n",
        "# Check the count of administrative regions for Colombo\n",
        "print('Admin1 count:', boundary.size().getInfo())\n",
        "\n",
        "# Create an interactive map centered on Colombo (approximate center)\n",
        "Map = geemap.Map(center=[1.4854, 103.7618], zoom=9)\n",
        "\n",
        "# Add the Colombo admin2 layer to the map\n",
        "Map.addLayer(boundary, {'color': 'green'}, 'Johor')\n",
        "\n",
        "# Display the map\n",
        "Map"
      ],
      "metadata": {
        "id": "PBReCYiIOr1G"
      },
      "execution_count": null,
      "outputs": []
    },
    {
      "cell_type": "markdown",
      "source": [
        "## Visualize Sentinel-2 RGB Imagery over Johor\n",
        "Next, filter Sentinel-2 surface reflectance imagery for the year 2024 over Johor State, creates a median composite, and displays a true-color RGB image on the interactive map."
      ],
      "metadata": {
        "id": "HVuQguLdUF5y"
      }
    },
    {
      "cell_type": "code",
      "source": [
        "# Load and Filter Sentinel-2 ===\n",
        "s2 = ee.ImageCollection(\"COPERNICUS/S2_SR_HARMONIZED\") \\\n",
        "    .filterBounds(boundary) \\\n",
        "    .filterDate('2024-01-01', '2024-12-31') \\\n",
        "    .filter(ee.Filter.lt('CLOUDY_PIXEL_PERCENTAGE', 30)) \\\n",
        "    .median() \\\n",
        "    .clip(boundary)\n",
        "\n",
        "s2_vis = {\n",
        "    'min': 0,\n",
        "    'max': 3000,\n",
        "    'bands': ['B4', 'B3', 'B2']  # RGB\n",
        "}\n",
        "Map.addLayer(s2, s2_vis, 'Sentinel-2 RGB (2023)')\n",
        "\n",
        "# Display the map\n",
        "Map"
      ],
      "metadata": {
        "id": "IEmyLjyQUGQa"
      },
      "execution_count": null,
      "outputs": []
    },
    {
      "cell_type": "markdown",
      "source": [
        "## Visualize Sentinel-1 VV, VH, and composite backscatter\n",
        "Next, process Sentinel-1 radar imagery for 2024 over Johor, displaying the VV and VH polarization bands individually and as a pseudo-RGB composite."
      ],
      "metadata": {
        "id": "rOcjtyutWBlO"
      }
    },
    {
      "cell_type": "code",
      "source": [
        "# Load and Filter Sentinel-1\n",
        "s1 = ee.ImageCollection(\"COPERNICUS/S1_GRD\") \\\n",
        "    .filterBounds(boundary) \\\n",
        "    .filterDate('2024-01-01', '2024-12-31') \\\n",
        "    .filter(ee.Filter.eq('instrumentMode', 'IW')) \\\n",
        "    .filter(ee.Filter.listContains('transmitterReceiverPolarisation', 'VV')) \\\n",
        "    .filter(ee.Filter.listContains('transmitterReceiverPolarisation', 'VH')) \\\n",
        "    .filter(ee.Filter.eq('orbitProperties_pass', 'DESCENDING')) \\\n",
        "    .median() \\\n",
        "    .clip(boundary)\n",
        "\n",
        "# Display VV band only\n",
        "Map.addLayer(s1.select('VV'), {'min': -20, 'max': 0}, 'Sentinel-1 VV')\n",
        "\n",
        "# Display VH band only\n",
        "Map.addLayer(s1.select('VH'), {'min': -25, 'max': -5}, 'Sentinel-1 VH')\n",
        "\n",
        "# Display VV/VH Composite (VV-R, VH-G, VV-B)\n",
        "composite_vis = {\n",
        "    'min': -25,\n",
        "    'max': 0,\n",
        "    'bands': ['VV', 'VH', 'VV']  # Pseudo-RGB\n",
        "}\n",
        "Map.addLayer(s1, composite_vis, 'Sentinel-1 VV/VH Composite')\n",
        "\n",
        "# Show map\n",
        "Map"
      ],
      "metadata": {
        "id": "NA0ms_oIWCBO"
      },
      "execution_count": null,
      "outputs": []
    },
    {
      "cell_type": "markdown",
      "source": [
        "## Create ALOS PALSAR-2 ScanSAR\n",
        "Next, disply ALOS PALSAR-2 (Advanced Land Observing Satellite – Phased Array type L-band Synthetic Aperture Radar). ALOS PALSAR-2  is a Japanese L-band radar sensor (Japan Aerospace Exploration Agency)."
      ],
      "metadata": {
        "id": "xQ3I7LaqdCZ0"
      }
    },
    {
      "cell_type": "code",
      "source": [
        "# Load ALOS PALSAR-2 ScanSAR image collection and filter by boundary and date\n",
        "collection = (\n",
        "    ee.ImageCollection('JAXA/ALOS/PALSAR-2/Level2_2/ScanSAR')\n",
        "    .filterBounds(boundary)\n",
        "    .filterDate('2024-01-01', '2024-12-31')\n",
        ")\n",
        "\n",
        "# Compute median composites for HH and HV\n",
        "Palsar_median_HH = collection.select('HH').median().clip(boundary).unitScale(0, 8000)\n",
        "\n",
        "# Add PALSAR ScanScar layers to the map\n",
        "Map.addLayer(Palsar_median_HH, {'min': 0, 'max': 1}, 'PALSAR Median HH')\n",
        "\n",
        "# Show map\n",
        "Map"
      ],
      "metadata": {
        "id": "XxBlnF8jdC_k"
      },
      "execution_count": null,
      "outputs": []
    },
    {
      "cell_type": "markdown",
      "source": [
        "## Display ESA land cover\n",
        "Finally, display the ESA land cover map for 2021."
      ],
      "metadata": {
        "id": "wROcFuJrXlgM"
      }
    },
    {
      "cell_type": "code",
      "source": [
        "# Load ESA WorldCover Land Cover\n",
        "esa_lc = ee.Image(\"ESA/WorldCover/v200/2021\").clip(boundary)\n",
        "\n",
        "# Define Visualization Parameters\n",
        "lc_vis = {\n",
        "    'min': 10,\n",
        "    'max': 100,\n",
        "    'palette': [\n",
        "        '006400', 'ffbb22', 'ffff4c', 'f096ff', 'fa0000',\n",
        "        'b4b4b4', 'f0f0f0', '0064c8', '0096a0', '00cf75',\n",
        "        'fae6a0', '58481f', '0096c8', 'c8c8c8', '677819',\n",
        "        'dcd159', 'ff6d4c'\n",
        "    ]\n",
        "}\n",
        "\n",
        "# Add Land Cover Layer to Map\n",
        "Map.addLayer(esa_lc, lc_vis, 'ESA WorldCover (2021)')\n",
        "\n",
        "# Add Legend\n",
        "legend_dict = {\n",
        "    'Tree cover': '006400',\n",
        "    'Shrubland': 'ffbb22',\n",
        "    'Grassland': 'ffff4c',\n",
        "    'Cropland': 'f096ff',\n",
        "    'Built-up': 'fa0000',\n",
        "    'Bare / sparse vegetation': 'b4b4b4',\n",
        "    'Snow and ice': 'f0f0f0',\n",
        "    'Permanent water bodies': '0064c8',\n",
        "    'Herbaceous wetland': '0096a0',\n",
        "    'Mangroves': '00cf75',\n",
        "    'Moss and lichen': 'fae6a0',\n",
        "    'Sparse trees': '58481f',\n",
        "    'Sparse shrubland': '0096c8',\n",
        "    'Sparse herbaceous': 'c8c8c8',\n",
        "    'Bare soil': '677819',\n",
        "    'Open rock': 'dcd159',\n",
        "    'Urban green space': 'ff6d4c',\n",
        "}\n",
        "\n",
        "Map.add_legend(title=\"ESA WorldCover 2021\", legend_dict=legend_dict)\n",
        "\n",
        "# Display the Interactive Map\n",
        "Map"
      ],
      "metadata": {
        "id": "G9PtrsWQXl7O"
      },
      "execution_count": null,
      "outputs": []
    },
    {
      "cell_type": "markdown",
      "source": [
        "## Lab Assignment\n",
        "### Task\n",
        "Using your study area of interest (country, province, or district), perform the following:\n",
        "1. Display the boundary of your chosen administrative unit using GeoBoundaries.\n",
        "2. Load and visualize the following Earth observation datasets clipped to your boundary:\n",
        "      * Landsat 9 Surface Reflectance (2023 or 2024)\n",
        "      * Sentinel-2 Surface Reflectance (RGB composite)\n",
        "      * Sentinel-1 SAR (VV and VH bands + composite)\n",
        "      * ALOS PALSAR-2 ScanSAR (HH band)\n",
        "      * ESA WorldCover Land Cover Map (2021)\n",
        "      * Add a legend to the map for the ESA land cover classes.\n",
        "3. Create a list of relevant land cover classes for your study area (e.g., forest, built-up, cropland, water) based on the WorldCover map.   List item\n",
        "4. Save your script as a Python notebook (.ipynb) or Python script (.py) and\n",
        "upload a screenshot of your map output."
      ],
      "metadata": {
        "id": "sDBsuf4ZckkE"
      }
    }
  ],
  "metadata": {
    "colab": {
      "provenance": [],
      "authorship_tag": "ABX9TyPZvLR2YB9rnJH/wDWv/z7x",
      "include_colab_link": true
    },
    "kernelspec": {
      "display_name": "Python 3",
      "name": "python3"
    },
    "language_info": {
      "name": "python"
    }
  },
  "nbformat": 4,
  "nbformat_minor": 0
}