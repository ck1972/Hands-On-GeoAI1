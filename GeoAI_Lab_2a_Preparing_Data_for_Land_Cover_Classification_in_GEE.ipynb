{
  "cells": [
    {
      "cell_type": "markdown",
      "metadata": {
        "id": "view-in-github",
        "colab_type": "text"
      },
      "source": [
        "<a href=\"https://colab.research.google.com/github/ck1972/Hands-On-GeoAI1/blob/main/GeoAI_Lab_2a_Preparing_Data_for_Land_Cover_Classification_in_GEE.ipynb\" target=\"_parent\"><img src=\"https://colab.research.google.com/assets/colab-badge.svg\" alt=\"Open In Colab\"/></a>"
      ]
    },
    {
      "cell_type": "markdown",
      "metadata": {
        "id": "SncSpvGm2VUS"
      },
      "source": [
        "# **Lab 2a. Preparing Data for Land Cover Classification in GEE**\n"
      ]
    },
    {
      "cell_type": "markdown",
      "metadata": {
        "id": "DoerQ1ama7Fh"
      },
      "source": [
        "# Initialize and Authenticate Earth Engine\n",
        "To get started with Google Earth Engine (GEE), you need to initialize and authenticate the Earth Engine API."
      ]
    },
    {
      "cell_type": "code",
      "execution_count": null,
      "metadata": {
        "id": "7a6_vlZcOZPU"
      },
      "outputs": [],
      "source": [
        "# Import the API\n",
        "import ee\n",
        "\n",
        "# Import the geemap library\n",
        "import geemap"
      ]
    },
    {
      "cell_type": "markdown",
      "metadata": {
        "id": "8V9idAmhc8X7"
      },
      "source": [
        "Next, initialize the Earth Engine API. You must initialize the API to use Earth Engine functionalities. This involves authenticating your session and initializing the library. When you run the ee.Initialize() command for the first time, you might be prompted to authenticate your session. This will open a web browser window where you need to log in with your Google account and grant Earth Engine access."
      ]
    },
    {
      "cell_type": "code",
      "execution_count": null,
      "metadata": {
        "id": "0hGRqMB4PN7N",
        "colab": {
          "base_uri": "https://localhost:8080/",
          "height": 17
        },
        "outputId": "4c776a14-b62a-4d44-eb2b-74edd16f3510"
      },
      "outputs": [
        {
          "output_type": "display_data",
          "data": {
            "text/plain": [
              "<IPython.core.display.HTML object>"
            ],
            "text/html": [
              "\n",
              "            <style>\n",
              "                .geemap-dark {\n",
              "                    --jp-widgets-color: white;\n",
              "                    --jp-widgets-label-color: white;\n",
              "                    --jp-ui-font-color1: white;\n",
              "                    --jp-layout-color2: #454545;\n",
              "                    background-color: #383838;\n",
              "                }\n",
              "\n",
              "                .geemap-dark .jupyter-button {\n",
              "                    --jp-layout-color3: #383838;\n",
              "                }\n",
              "\n",
              "                .geemap-colab {\n",
              "                    background-color: var(--colab-primary-surface-color, white);\n",
              "                }\n",
              "\n",
              "                .geemap-colab .jupyter-button {\n",
              "                    --jp-layout-color3: var(--colab-primary-surface-color, white);\n",
              "                }\n",
              "            </style>\n",
              "            "
            ]
          },
          "metadata": {}
        }
      ],
      "source": [
        "# Trigger the authentication flow.\n",
        "ee.Authenticate()\n",
        "\n",
        "# Initialize the library.\n",
        "ee.Initialize(project='ee-kamusoko-test') # Change to your EE project"
      ]
    },
    {
      "cell_type": "markdown",
      "source": [
        "## Define the boundary\n",
        "First, we define an area of interest by creating a boundary using FAO dataset from GEE catalog."
      ],
      "metadata": {
        "id": "nMOLzWiNHFUD"
      }
    },
    {
      "cell_type": "code",
      "source": [
        "# Load GADM Level 2 data\n",
        "gadm2 = ee.FeatureCollection(\"FAO/GAUL/2015/level2\")\n",
        "\n",
        "# Filter by name\n",
        "boundary = gadm2.filter(ee.Filter.eq('ADM2_NAME', 'Johor Bahru'))\n",
        "\n",
        "# Check boundary info\n",
        "print(boundary.getInfo())\n",
        "\n",
        "# Create an interactive map centered on Colombo (approximate center)\n",
        "Map = geemap.Map(center=[1.4854, 103.7618], zoom=11)\n",
        "\n",
        "# Add the Colombo admin2 layer to the map\n",
        "Map.addLayer(boundary, {'color': 'green'}, 'Johor')\n",
        "\n",
        "# Display the map\n",
        "Map"
      ],
      "metadata": {
        "id": "4124cWgI5N8b"
      },
      "execution_count": null,
      "outputs": []
    },
    {
      "cell_type": "markdown",
      "source": [
        "## Visualize Landsat 9 RGB Imagery\n",
        "Next, filter Landsat 9 surface reflectance imagery for the year 2024 over Johor State, creates a median composite, and displays a true-color RGB image on the interactive map."
      ],
      "metadata": {
        "id": "ZBwvT_XXwqIM"
      }
    },
    {
      "cell_type": "code",
      "source": [
        "# Load Landsat 9 and filter by date, location, and cloud cover ≤ 30%\n",
        "dataset = ee.ImageCollection('LANDSAT/LC09/C02/T1_L2') \\\n",
        "    .filterBounds(boundary) \\\n",
        "    .filterDate('2024-01-01', '2024-12-31') \\\n",
        "    .filter(ee.Filter.lte('CLOUD_COVER', 30))\n",
        "\n",
        "# Apply scale factors\n",
        "def apply_scale_factors(image):\n",
        "    optical_bands = image.select('SR_B.').multiply(0.0000275).add(-0.2)\n",
        "    thermal_bands = image.select('ST_B.*').multiply(0.00341802).add(149.0)\n",
        "    return image.addBands(optical_bands, None, True).addBands(thermal_bands, None, True)\n",
        "\n",
        "dataset = dataset.map(apply_scale_factors)\n",
        "\n",
        "# Compute the median composite\n",
        "L9_median = dataset.median().clip(boundary)\n",
        "\n",
        "# Visualization parameters for RGB\n",
        "vis_rgb = {\n",
        "    'bands': ['SR_B4', 'SR_B3', 'SR_B2'],\n",
        "    'min': 0.0,\n",
        "    'max': 0.3\n",
        "}\n",
        "\n",
        "# Optional: Display NIR, SWIR, etc. for analysis\n",
        "# vis_nir = {'bands': ['SR_B5', 'SR_B4', 'SR_B3'], 'min': 0.0, 'max': 0.3}  # NIR-R-G\n",
        "\n",
        "# Create and display the map\n",
        "Map.addLayer(L9_median, vis_rgb, 'Landsat 9 RGB (2024)')\n",
        "Map"
      ],
      "metadata": {
        "id": "rP9Jymzuwq98"
      },
      "execution_count": null,
      "outputs": []
    },
    {
      "cell_type": "markdown",
      "source": [
        "## Visualize Sentinel-2 RGB Imagery\n",
        "Next, filter Sentinel-2 surface reflectance imagery for the year 2024 over Johor State, creates a median composite, and displays a true-color RGB image on the interactive map."
      ],
      "metadata": {
        "id": "HVuQguLdUF5y"
      }
    },
    {
      "cell_type": "code",
      "source": [
        "# Load and Filter Sentinel-2\n",
        "s2 = ee.ImageCollection(\"COPERNICUS/S2_SR_HARMONIZED\") \\\n",
        "    .filterBounds(boundary) \\\n",
        "    .filterDate('2024-01-01', '2024-12-31') \\\n",
        "    .filter(ee.Filter.lt('CLOUDY_PIXEL_PERCENTAGE', 30)) \\\n",
        "    .median() \\\n",
        "    .clip(boundary)\n",
        "\n",
        "s2_vis = {\n",
        "    'min': 0,\n",
        "    'max': 3000,\n",
        "    'bands': ['B4', 'B3', 'B2']  # RGB\n",
        "}\n",
        "Map.addLayer(s2, s2_vis, 'Sentinel-2 RGB (2023)')\n",
        "\n",
        "# Display the map\n",
        "Map"
      ],
      "metadata": {
        "id": "IEmyLjyQUGQa"
      },
      "execution_count": null,
      "outputs": []
    },
    {
      "cell_type": "markdown",
      "source": [
        "### # Generate XYZ Tile URL for QGIS Visualization\n",
        "Next, retrieve the tile URL for displaying the Sentinel-2 image in QGIS as a web map layer."
      ],
      "metadata": {
        "id": "7E4sSi1V8nVO"
      }
    },
    {
      "cell_type": "code",
      "source": [
        "# Get tile URL for QGIS\n",
        "map_id_dict = s2.getMapId(s2_vis)\n",
        "tile_url = map_id_dict['tile_fetcher'].url_format\n",
        "print(\"XYZ Tile URL for QGIS:\")\n",
        "print(tile_url)"
      ],
      "metadata": {
        "colab": {
          "base_uri": "https://localhost:8080/",
          "height": 54
        },
        "id": "RP2_DX3w6hwa",
        "outputId": "3d26a1aa-792f-4a1f-cb8b-998939b2c841"
      },
      "execution_count": null,
      "outputs": [
        {
          "output_type": "display_data",
          "data": {
            "text/plain": [
              "<IPython.core.display.HTML object>"
            ],
            "text/html": [
              "\n",
              "            <style>\n",
              "                .geemap-dark {\n",
              "                    --jp-widgets-color: white;\n",
              "                    --jp-widgets-label-color: white;\n",
              "                    --jp-ui-font-color1: white;\n",
              "                    --jp-layout-color2: #454545;\n",
              "                    background-color: #383838;\n",
              "                }\n",
              "\n",
              "                .geemap-dark .jupyter-button {\n",
              "                    --jp-layout-color3: #383838;\n",
              "                }\n",
              "\n",
              "                .geemap-colab {\n",
              "                    background-color: var(--colab-primary-surface-color, white);\n",
              "                }\n",
              "\n",
              "                .geemap-colab .jupyter-button {\n",
              "                    --jp-layout-color3: var(--colab-primary-surface-color, white);\n",
              "                }\n",
              "            </style>\n",
              "            "
            ]
          },
          "metadata": {}
        },
        {
          "output_type": "stream",
          "name": "stdout",
          "text": [
            "XYZ Tile URL for QGIS:\n",
            "https://earthengine.googleapis.com/v1/projects/ee-kamusoko-test/maps/e17d9f13757bcbaf581236f8878853a4-8497bc293cf272cb7a37e00e6e7e7ace/tiles/{z}/{x}/{y}\n"
          ]
        }
      ]
    },
    {
      "cell_type": "markdown",
      "source": [
        "## Visualize Sentinel-1 VV, VH, and composite backscatter\n",
        "Next, process Sentinel-1 radar imagery for 2024 over Johor, displaying the VV and VH polarization bands individually and as a pseudo-RGB composite."
      ],
      "metadata": {
        "id": "rOcjtyutWBlO"
      }
    },
    {
      "cell_type": "code",
      "source": [
        "# Load and Filter Sentinel-1\n",
        "s1 = ee.ImageCollection(\"COPERNICUS/S1_GRD\") \\\n",
        "    .filterBounds(boundary) \\\n",
        "    .filterDate('2024-01-01', '2024-12-31') \\\n",
        "    .filter(ee.Filter.eq('instrumentMode', 'IW')) \\\n",
        "    .filter(ee.Filter.listContains('transmitterReceiverPolarisation', 'VV')) \\\n",
        "    .filter(ee.Filter.listContains('transmitterReceiverPolarisation', 'VH')) \\\n",
        "    .filter(ee.Filter.eq('orbitProperties_pass', 'DESCENDING')) \\\n",
        "    .median() \\\n",
        "    .clip(boundary)\n",
        "\n",
        "# Display VV band only\n",
        "Map.addLayer(s1.select('VV'), {'min': -20, 'max': 0}, 'Sentinel-1 VV')\n",
        "\n",
        "# Display VH band only\n",
        "Map.addLayer(s1.select('VH'), {'min': -25, 'max': -5}, 'Sentinel-1 VH')\n",
        "\n",
        "# Display VV/VH Composite (VV-R, VH-G, VV-B)\n",
        "composite_vis = {\n",
        "    'min': -25,\n",
        "    'max': 0,\n",
        "    'bands': ['VV', 'VH', 'VV']  # Pseudo-RGB\n",
        "}\n",
        "Map.addLayer(s1, composite_vis, 'Sentinel-1 VV/VH Composite')\n",
        "\n",
        "# Show map\n",
        "Map"
      ],
      "metadata": {
        "id": "NA0ms_oIWCBO"
      },
      "execution_count": null,
      "outputs": []
    },
    {
      "cell_type": "markdown",
      "source": [
        "## Create ALOS PALSAR-2 ScanSAR\n",
        "Next, disply ALOS PALSAR-2 (Advanced Land Observing Satellite – Phased Array type L-band Synthetic Aperture Radar). ALOS PALSAR-2  is a Japanese L-band radar sensor (Japan Aerospace Exploration Agency)."
      ],
      "metadata": {
        "id": "xQ3I7LaqdCZ0"
      }
    },
    {
      "cell_type": "code",
      "source": [
        "# Load ALOS PALSAR-2 ScanSAR image collection and filter by boundary and date\n",
        "collection = (\n",
        "    ee.ImageCollection('JAXA/ALOS/PALSAR-2/Level2_2/ScanSAR')\n",
        "    .filterBounds(boundary)\n",
        "    .filterDate('2024-01-01', '2024-12-31')\n",
        ")\n",
        "\n",
        "# Compute median composites for HH and HV\n",
        "Palsar_median_HH = collection.select('HH').median().clip(boundary).unitScale(0, 8000)\n",
        "\n",
        "# Add PALSAR ScanScar layers to the map\n",
        "Map.addLayer(Palsar_median_HH, {'min': 0, 'max': 1}, 'PALSAR Median HH')\n",
        "\n",
        "# Show map\n",
        "Map"
      ],
      "metadata": {
        "id": "XxBlnF8jdC_k"
      },
      "execution_count": null,
      "outputs": []
    },
    {
      "cell_type": "markdown",
      "source": [
        "## Display ESA land cover\n",
        "Finally, display the ESA land cover map for 2021."
      ],
      "metadata": {
        "id": "wROcFuJrXlgM"
      }
    },
    {
      "cell_type": "code",
      "source": [
        "# Load ESA WorldCover 2021 and clip to boundary\n",
        "esa_lc = ee.Image(\"ESA/WorldCover/v200/2021\").clip(boundary)\n",
        "\n",
        "# Correct visualization with exact class values and colors\n",
        "lc_vis = {\n",
        "    'min': 10,\n",
        "    'max': 100,\n",
        "    'palette': [\n",
        "        '006400',  # 10 - Tree cover\n",
        "        'ffbb22',  # 20 - Shrubland\n",
        "        'ffff4c',  # 30 - Grassland\n",
        "        'f096ff',  # 40 - Cropland\n",
        "        'fa0000',  # 50 - Built-up\n",
        "        'b4b4b4',  # 60 - Bare / sparse vegetation\n",
        "        'f0f0f0',  # 70 - Snow and ice\n",
        "        '0064c8',  # 80 - Water\n",
        "        '0096a0',  # 90 - Herbaceous wetland\n",
        "        '00cf75',  # 95 - Mangroves\n",
        "        'fae6a0'   # 100 - Moss and lichen\n",
        "    ]\n",
        "}\n",
        "\n",
        "# Add to map\n",
        "Map.addLayer(esa_lc, lc_vis, 'ESA WorldCover (2021)')\n",
        "\n",
        "# Matching legend\n",
        "legend_dict = {\n",
        "    'Tree cover': '006400',\n",
        "    'Shrubland': 'ffbb22',\n",
        "    'Grassland': 'ffff4c',\n",
        "    'Cropland': 'f096ff',\n",
        "    'Built-up': 'fa0000',\n",
        "    'Bare / sparse vegetation': 'b4b4b4',\n",
        "    'Snow and ice': 'f0f0f0',\n",
        "    'Permanent water bodies': '0064c8',\n",
        "    'Herbaceous wetland': '0096a0',\n",
        "    'Mangroves': '00cf75',\n",
        "    'Moss and lichen': 'fae6a0'\n",
        "}\n",
        "\n",
        "Map.add_legend(title=\"ESA WorldCover 2021\", legend_dict=legend_dict)\n",
        "Map"
      ],
      "metadata": {
        "id": "G9PtrsWQXl7O"
      },
      "execution_count": null,
      "outputs": []
    },
    {
      "cell_type": "markdown",
      "source": [
        "## Lab Assignment\n",
        "### Task\n",
        "Using your study area of interest (country, province, or district), perform the following:\n",
        "1. Display the Sentinel-2 data in QGIS.\n",
        "2. Create land cover polygons in QGIS."
      ],
      "metadata": {
        "id": "sDBsuf4ZckkE"
      }
    }
  ],
  "metadata": {
    "colab": {
      "provenance": [],
      "authorship_tag": "ABX9TyP00pSlmtUUbDTCJzX3JIVF",
      "include_colab_link": true
    },
    "kernelspec": {
      "display_name": "Python 3",
      "name": "python3"
    },
    "language_info": {
      "name": "python"
    }
  },
  "nbformat": 4,
  "nbformat_minor": 0
}