{
  "nbformat": 4,
  "nbformat_minor": 0,
  "metadata": {
    "colab": {
      "provenance": [],
      "include_colab_link": true
    },
    "kernelspec": {
      "name": "python3",
      "display_name": "Python 3"
    },
    "language_info": {
      "name": "python"
    }
  },
  "cells": [
    {
      "cell_type": "markdown",
      "metadata": {
        "id": "view-in-github",
        "colab_type": "text"
      },
      "source": [
        "<a href=\"https://colab.research.google.com/github/ck1972/Hands-On-GeoAI1/blob/main/Lab_1a_Python_Fundamentals_for_Geospatial_ML1.ipynb\" target=\"_parent\"><img src=\"https://colab.research.google.com/assets/colab-badge.svg\" alt=\"Open In Colab\"/></a>"
      ]
    },
    {
      "cell_type": "markdown",
      "source": [
        "# Lab 1a: Python Fundamentals for Geospatial Machine Learning\n",
        "## Overview\n",
        "Python has become a cornerstone language for machine learning due to its simplicity, and an extensive ecosystem of libraries. Its open-source nature and active community make it a preferred choice for both beginners and advanced practitioners. This lab introduces the foundational concepts of Python programming.\n"
      ],
      "metadata": {
        "id": "5a4GzKI-K7Px"
      }
    },
    {
      "cell_type": "markdown",
      "source": [
        "## Variables, data types, and basic operations\n",
        "### Variables\n",
        "Variables are containers used to store data values, allowing you to work with them later in your program. You can create a variable by assigning a value to a name using the `=` operator. For example, `x = 10` assigns the value `10` to the variable `x`."
      ],
      "metadata": {
        "id": "g7_70mZPQFo4"
      }
    },
    {
      "cell_type": "code",
      "source": [
        "# Variables\n",
        "country_name = \"Zimbabwe\"  # The variable 'name' stores the string \"Zimbabwe\""
      ],
      "metadata": {
        "id": "bRjB9j1nWB_s"
      },
      "execution_count": null,
      "outputs": []
    },
    {
      "cell_type": "markdown",
      "source": [
        "#### Naming variables\n",
        "When naming variables in Python, it is important to follow these rules to ensure clarity and maintain coding standards:\n",
        "\n",
        "- Choose names that clearly describe the variable's purpose (e.g., land_cover_type instead of lct).\n",
        "- Use lowercase letters separated by underscores for readability (e.g., total_area, totalArea).\n",
        "- Do not use Python keywords or built-in function names as variable names (e.g.,if, print,class, object etc).\n",
        "- Variable names must begin with a letter (a-z, A-Z) or an underscore (_) but cannot start with a number.\n",
        "- Variable names can include letters, numbers, and underscores but no spaces or special characters.\n",
        "-Maintain a consistent naming style throughout your code for better readability and organization."
      ],
      "metadata": {
        "id": "W3RFieGtnuOR"
      }
    },
    {
      "cell_type": "markdown",
      "source": [
        "###  Data types\n",
        "Data types in Python define the kind of data a variable can hold. Common data types include integers (`int`), floating-point numbers (`float`), strings (`str`), and booleans (`bool`). Python also supports complex data types like lists, tuples, dictionaries, and sets, which are used for more advanced data handling.\n",
        "\n"
      ],
      "metadata": {
        "id": "2Izt9HwxX2Sc"
      }
    },
    {
      "cell_type": "markdown",
      "source": [
        "#### Integer (int)\n",
        "An integer is a whole number, positive or negative, without any fractional or decimal part."
      ],
      "metadata": {
        "id": "MieyBtLpb2oM"
      }
    },
    {
      "cell_type": "code",
      "source": [
        "# Integer\n",
        "age = 25\n",
        "print(age)"
      ],
      "metadata": {
        "id": "AbSpcgOQb6Tl",
        "colab": {
          "base_uri": "https://localhost:8080/"
        },
        "outputId": "03255b75-1543-423f-c117-c7ad80a61c32"
      },
      "execution_count": null,
      "outputs": [
        {
          "output_type": "stream",
          "name": "stdout",
          "text": [
            "25\n"
          ]
        }
      ]
    },
    {
      "cell_type": "markdown",
      "source": [
        "#### Float (float)\n",
        "A float represents a number that contains a decimal point or is expressed in exponential (scientific) notation.\n"
      ],
      "metadata": {
        "id": "PaI2vvejb8Ue"
      }
    },
    {
      "cell_type": "code",
      "source": [
        "# Float\n",
        "elevation = 5.8\n",
        "print(elevation)"
      ],
      "metadata": {
        "id": "RRkmCMOWb_x6",
        "colab": {
          "base_uri": "https://localhost:8080/"
        },
        "outputId": "7b7f152a-6eb3-461b-8764-d65a0c139705"
      },
      "execution_count": null,
      "outputs": [
        {
          "output_type": "stream",
          "name": "stdout",
          "text": [
            "5.8\n"
          ]
        }
      ]
    },
    {
      "cell_type": "markdown",
      "source": [
        "#### String (str)\n",
        "A string is a sequence of characters enclosed within single (') or double (\") quotes. Strings are used to represent text data in Python. They can include letters, numbers, symbols, and spaces."
      ],
      "metadata": {
        "id": "mmCmgIagcBma"
      }
    },
    {
      "cell_type": "code",
      "source": [
        " # string\n",
        "city = \"Harare\"\n",
        "print(city)"
      ],
      "metadata": {
        "id": "6HKjKv0mcGBR",
        "colab": {
          "base_uri": "https://localhost:8080/"
        },
        "outputId": "7c095980-5bb7-441a-b9ed-8fe5de4ec8b6"
      },
      "execution_count": null,
      "outputs": [
        {
          "output_type": "stream",
          "name": "stdout",
          "text": [
            "Harare\n"
          ]
        }
      ]
    },
    {
      "cell_type": "markdown",
      "source": [
        "Multiline strings in Python are string that span across multiple lines. They are typically enclosed within triple quotes (\"\"\" or '''). These strings are especially helpful when you want to maintain formatting (such as new lines or paragraphs) or when writing lengthy SQL queries or other multi-line text."
      ],
      "metadata": {
        "id": "v1BYGfnoSLZK"
      }
    },
    {
      "cell_type": "code",
      "source": [
        "# Multiline string example\n",
        "info = \"\"\"\n",
        "What is the capital city of Zimbabwe?\n",
        "The capital city of Zimbabwe is Harare.\n",
        "\n",
        "Where is the capital city of Zimbabwe located?\n",
        "Harare is located in the northern part of Zimbabwe.\n",
        "It is situated on the central plateau at an elevation of approximately 1,483 meters (4,865 feet) above sea level.\n",
        "\"\"\"\n",
        "\n",
        "# Print the multiline string\n",
        "print(info)"
      ],
      "metadata": {
        "colab": {
          "base_uri": "https://localhost:8080/"
        },
        "id": "R-SoMR8_T5ER",
        "outputId": "18d16290-1f8b-416c-883e-058935666059"
      },
      "execution_count": null,
      "outputs": [
        {
          "output_type": "stream",
          "name": "stdout",
          "text": [
            "\n",
            "What is the capital city of Zimbabwe?\n",
            "The capital city of Zimbabwe is Harare.\n",
            "\n",
            "Where is the capital city of Zimbabwe located?\n",
            "Harare is located in the northern part of Zimbabwe.\n",
            "It is situated on the central plateau at an elevation of approximately 1,483 meters (4,865 feet) above sea level.\n",
            "\n"
          ]
        }
      ]
    },
    {
      "cell_type": "markdown",
      "source": [
        "#### Boolean (bool)\n",
        "A boolean represents one of two values: True or False.\n"
      ],
      "metadata": {
        "id": "VaTdaG6fcJb0"
      }
    },
    {
      "cell_type": "code",
      "source": [
        "# Boolean example for a geographic context\n",
        "is_within_boundaries = True  # Example: Whether a location is within a specified area\n",
        "print(\"Is the point within the study area boundaries?\")\n",
        "print(is_within_boundaries)"
      ],
      "metadata": {
        "colab": {
          "base_uri": "https://localhost:8080/"
        },
        "id": "eYD24cf8YAYT",
        "outputId": "767c9c63-dc32-4992-fd83-4b8ce8b05a40"
      },
      "execution_count": null,
      "outputs": [
        {
          "output_type": "stream",
          "name": "stdout",
          "text": [
            "Is the point within the study area boundaries?\n",
            "True\n"
          ]
        }
      ]
    },
    {
      "cell_type": "markdown",
      "source": [
        "This can later be used in conditional checks or logical operations when analyzing spatial data."
      ],
      "metadata": {
        "id": "81VZmxZLVSbb"
      }
    },
    {
      "cell_type": "code",
      "source": [
        "if is_within_boundaries:\n",
        "    print(\"The location is valid for analysis.\")\n",
        "else:\n",
        "    print(\"The location is outside the study area.\")"
      ],
      "metadata": {
        "colab": {
          "base_uri": "https://localhost:8080/"
        },
        "id": "8Illn4J9VWgG",
        "outputId": "aa3e3b8a-2597-4968-db64-aaa66fa00e82"
      },
      "execution_count": null,
      "outputs": [
        {
          "output_type": "stream",
          "name": "stdout",
          "text": [
            "The location is valid for analysis.\n"
          ]
        }
      ]
    },
    {
      "cell_type": "markdown",
      "source": [
        "### Basic operations\n",
        "Basic Operations in Python allow manipulation of data. Arithmetic operations include addition (`+`), subtraction (`-`), multiplication (`*`), and division (`/`). Python also supports comparison operators (`==`, `<`, `>`) and logical operators (`and`, `or`, `not`) for conditional expressions. For instance, `x + y` adds two variables, while `x > y` evaluates whether `x` is greater than `y`. Mastering these fundamentals is essential for performing calculations, logical reasoning, and building more complex Python programs."
      ],
      "metadata": {
        "id": "OEhKUSQ-bmF8"
      }
    },
    {
      "cell_type": "markdown",
      "source": [
        "#### Arithmetic operations\n",
        "These operations perform basic mathematical calculations (addition, Subtraction, multiplication, division). For example, adding two numbers.\n"
      ],
      "metadata": {
        "id": "oE2II69ibwX2"
      }
    },
    {
      "cell_type": "code",
      "source": [
        "# Addition\n",
        "result1 = 5 + 3\n",
        "print(result1)"
      ],
      "metadata": {
        "colab": {
          "base_uri": "https://localhost:8080/"
        },
        "id": "HxCUGjlpbo4W",
        "outputId": "89d79124-a55b-4c39-9c14-87fcd5806055"
      },
      "execution_count": null,
      "outputs": [
        {
          "output_type": "stream",
          "name": "stdout",
          "text": [
            "8\n"
          ]
        }
      ]
    },
    {
      "cell_type": "markdown",
      "source": [
        "Below a simple geographic example using arithmetic operations to calculate the total and average area of several countries."
      ],
      "metadata": {
        "id": "rg0GAk2eYhMs"
      }
    },
    {
      "cell_type": "code",
      "source": [
        "# Calculating total and average aand area\n",
        "# Land area of countries (in square kilometers)\n",
        "land_areas = {\n",
        "    \"Zimbabwe\": 390757,\n",
        "    \"South Africa\": 1219090,\n",
        "    \"Botswana\": 581730,\n",
        "    \"Namibia\": 825615\n",
        "}\n",
        "\n",
        "# Arithmetic operations\n",
        "total_area = sum(land_areas.values())  # Calculate the total area\n",
        "average_area = total_area / len(land_areas)  # Calculate the average area\n",
        "\n",
        "# Print results\n",
        "print(f\"Total land area: {total_area:,} square kilometers\")\n",
        "print(f\"Average land area: {average_area:,.2f} square kilometers\")"
      ],
      "metadata": {
        "colab": {
          "base_uri": "https://localhost:8080/"
        },
        "id": "6H0p6cPLYkOK",
        "outputId": "987b3637-bbf8-40aa-84c5-f9c9fa516c71"
      },
      "execution_count": null,
      "outputs": [
        {
          "output_type": "stream",
          "name": "stdout",
          "text": [
            "Total land area: 3,017,192 square kilometers\n",
            "Average land area: 754,298.00 square kilometers\n"
          ]
        }
      ]
    },
    {
      "cell_type": "markdown",
      "source": [
        "#### Comparison operators\n",
        "Comparison operators are used to compare two values and return a Boolean result: True if the condition is met, or False otherwise. These include == (equal to) and != (not equal to) for equality checks, as well as >, <, >=, and <= for comparing magnitudes."
      ],
      "metadata": {
        "id": "lXj4kiPehsAH"
      }
    },
    {
      "cell_type": "code",
      "source": [
        "# List of elevations (in meters) for different locations\n",
        "elevations = [450, 1200, 950, 1800, 3000, 650]\n",
        "\n",
        "# Threshold elevation (in meters)\n",
        "threshold = 1000\n",
        "\n",
        "# Use comparison operators to check which locations are above the threshold\n",
        "above_threshold = [elevation > threshold for elevation in elevations]\n",
        "\n",
        "# Use comparison operators to find the maximum elevation and compare with a value\n",
        "highest_elevation = max(elevations)\n",
        "is_highest_extreme = highest_elevation > 2500\n",
        "\n",
        "# Print results\n",
        "print(\"Elevations:\", elevations)\n",
        "print(f\"Threshold: {threshold} meters\")\n",
        "print(\"Locations above the threshold:\", above_threshold)\n",
        "print(f\"Highest elevation ({highest_elevation} meters) is extreme:\", is_highest_extreme)"
      ],
      "metadata": {
        "colab": {
          "base_uri": "https://localhost:8080/"
        },
        "id": "DU4PPIoKXe3U",
        "outputId": "f01dab40-cebc-45f3-99af-4e929a68bff7"
      },
      "execution_count": null,
      "outputs": [
        {
          "output_type": "stream",
          "name": "stdout",
          "text": [
            "Elevations: [450, 1200, 950, 1800, 3000, 650]\n",
            "Threshold: 1000 meters\n",
            "Locations above the threshold: [False, True, False, True, True, False]\n",
            "Highest elevation (3000 meters) is extreme: True\n"
          ]
        }
      ]
    },
    {
      "cell_type": "markdown",
      "source": [
        "#### Logical operators\n",
        "Python provides three logical operators: and, or, and not. The and operator returns True if both conditions are True, such as in x > 10 and y < 20. The or operator returns True if at least one condition is True, as in x > 10 or y < 20. Lastly, the not operator reverses the result of a condition, returning True if the condition is False, as seen in not (x > 10)."
      ],
      "metadata": {
        "id": "bjdqci6Yi_RI"
      }
    },
    {
      "cell_type": "code",
      "source": [
        "# Geographic data\n",
        "elevation = 800  # in meters\n",
        "temperature = 22  # in degrees Celsius\n",
        "\n",
        "# Criteria for suitability\n",
        "is_suitable_elevation = elevation > 500 and elevation < 1500  # Elevation between 500m and 1500m\n",
        "is_suitable_temperature = temperature > 15 or temperature < 25  # Temperature within a comfortable range\n",
        "is_not_extreme = not (elevation > 3000 or temperature < 0)  # Not extreme conditions\n",
        "\n",
        "# Final suitability check\n",
        "is_location_suitable = is_suitable_elevation and is_suitable_temperature and is_not_extreme\n",
        "\n",
        "# Print results\n",
        "print(f\"Suitable elevation: {is_suitable_elevation}\")\n",
        "print(f\"Suitable temperature: {is_suitable_temperature}\")\n",
        "print(f\"Not extreme conditions: {is_not_extreme}\")\n",
        "print(f\"Is the location suitable? {is_location_suitable}\")"
      ],
      "metadata": {
        "colab": {
          "base_uri": "https://localhost:8080/"
        },
        "id": "iH3-ZJ-GZ3rX",
        "outputId": "1fb7eae5-3857-4169-cefc-96851e76247d"
      },
      "execution_count": null,
      "outputs": [
        {
          "output_type": "stream",
          "name": "stdout",
          "text": [
            "Suitable elevation: True\n",
            "Suitable temperature: True\n",
            "Not extreme conditions: True\n",
            "Is the location suitable? True\n"
          ]
        }
      ]
    },
    {
      "cell_type": "markdown",
      "source": [
        "### Control structures: Loops and conditionals\n",
        "Control structures in Python are fundamental tools that allow developers to control the flow of a program. They enable decision-making (conditionals) and repetitive execution (loops), making programs dynamic and efficient. For example, we can use loops and conditional statements to help categorize elevation.\n"
      ],
      "metadata": {
        "id": "1MQZEsWoknEd"
      }
    },
    {
      "cell_type": "code",
      "source": [
        "# List of elevation points (in meters) for different locations\n",
        "elevations = [450, 1200, 200, 950, 1800, 3000]\n",
        "\n",
        "# Loop through elevations and categorize them\n",
        "for elevation in elevations:\n",
        "    if elevation < 500:\n",
        "        category = \"Lowland\"\n",
        "    elif 500 <= elevation < 1500:\n",
        "        category = \"Upland\"\n",
        "    elif 1500 <= elevation < 2500:\n",
        "        category = \"Highland\"\n",
        "    else:\n",
        "        category = \"Mountain\"\n",
        "\n",
        "    # Print the elevation and its category\n",
        "    print(f\"Elevation: {elevation} m - Category: {category}\")"
      ],
      "metadata": {
        "colab": {
          "base_uri": "https://localhost:8080/"
        },
        "id": "jMg8Imb-ZqtZ",
        "outputId": "768fbb03-b0c7-4069-ad94-4d506b9ee61a"
      },
      "execution_count": null,
      "outputs": [
        {
          "output_type": "stream",
          "name": "stdout",
          "text": [
            "Elevation: 450 m - Category: Lowland\n",
            "Elevation: 1200 m - Category: Upland\n",
            "Elevation: 200 m - Category: Lowland\n",
            "Elevation: 950 m - Category: Upland\n",
            "Elevation: 1800 m - Category: Highland\n",
            "Elevation: 3000 m - Category: Mountain\n"
          ]
        }
      ]
    },
    {
      "cell_type": "markdown",
      "source": [
        "### Data Structures: Lists, Dictionaries, and Tuples\n",
        "Data structures in Python are used to organize and store data efficiently. Among the most commonly used are lists, dictionaries, and tuples, each with distinct properties and use cases."
      ],
      "metadata": {
        "id": "7JOByTH5ozZ_"
      }
    },
    {
      "cell_type": "markdown",
      "source": [
        "#### Lists\n",
        "A list is a collection of ordered, mutable items, which means you can modify its contents after creation. Lists are defined using square brackets ([ ]) and can hold elements of any data type, including other lists.\n",
        "\n",
        "Features of lists:\n",
        "\n",
        "- Ordered - Elements are stored in the order they are added.\n",
        "- Mutable - You can add, remove, or modify elements.\n",
        "- Allow duplicates -Lists can contain duplicate elements."
      ],
      "metadata": {
        "id": "JUN1jZH4o12c"
      }
    },
    {
      "cell_type": "code",
      "source": [
        "# List of cities in Zimbabwe\n",
        "cities = [\"Harare\", \"Bulawayo\", \"Mutare\", \"Gweru\"]\n",
        "\n",
        "# Add a city to the list\n",
        "cities.append(\"Victoria Falls\")\n",
        "\n",
        "# Access and print the second city\n",
        "print(\"Second city:\", cities[1])\n",
        "\n",
        "# Print the complete list\n",
        "print(\"Cities:\", cities)"
      ],
      "metadata": {
        "id": "d7bkFtsRo1CR",
        "colab": {
          "base_uri": "https://localhost:8080/"
        },
        "outputId": "63de3cd8-a583-4cef-b1c0-eb7d8f5f0644"
      },
      "execution_count": null,
      "outputs": [
        {
          "output_type": "stream",
          "name": "stdout",
          "text": [
            "Second city: Bulawayo\n",
            "Cities: ['Harare', 'Bulawayo', 'Mutare', 'Gweru', 'Victoria Falls']\n"
          ]
        }
      ]
    },
    {
      "cell_type": "markdown",
      "source": [
        "#### Dictionaries\n",
        "A dictionary is a collection of key-value pairs, where each key is unique, and each key maps to a value. Dictionaries are defined using curly braces ({}).\n",
        "\n",
        "Features of dictionaries:\n",
        "\n",
        "- Unordered - Elements are not stored in a specific order (though Python 3.7+ maintains insertion order).\n",
        "- Mutable - You can add, modify, or remove key-value pairs.\n",
        "- Keys are unique - Duplicate keys are not allowed."
      ],
      "metadata": {
        "id": "EW9feOXSpoMX"
      }
    },
    {
      "cell_type": "code",
      "source": [
        "# Dictionary of city and its population\n",
        "city_population = {\n",
        "    \"Harare\": 1500000,\n",
        "    \"Bulawayo\": 650000,\n",
        "    \"Mutare\": 300000,\n",
        "    \"Gweru\": 160000\n",
        "}\n",
        "\n",
        "# Print city populations with formatted numbers\n",
        "for city, population in city_population.items():\n",
        "    print(f\"{city}: {population:,}\")\n",
        "\n",
        "# Add a new city with its population\n",
        "city_population[\"Victoria Falls\"] = 35000\n",
        "\n",
        "# Print the updated dictionary with formatted numbers\n",
        "print(\"\\nUpdated city populations:\")\n",
        "for city, population in city_population.items():\n",
        "    print(f\"{city}: {population:,}\")"
      ],
      "metadata": {
        "id": "EhnecEKVp6qc",
        "colab": {
          "base_uri": "https://localhost:8080/"
        },
        "outputId": "fe2008ca-721a-48d0-d892-927bcf287d31"
      },
      "execution_count": null,
      "outputs": [
        {
          "output_type": "stream",
          "name": "stdout",
          "text": [
            "Harare: 1,500,000\n",
            "Bulawayo: 650,000\n",
            "Mutare: 300,000\n",
            "Gweru: 160,000\n",
            "\n",
            "Updated city populations:\n",
            "Harare: 1,500,000\n",
            "Bulawayo: 650,000\n",
            "Mutare: 300,000\n",
            "Gweru: 160,000\n",
            "Victoria Falls: 35,000\n"
          ]
        }
      ]
    },
    {
      "cell_type": "markdown",
      "source": [
        "#### Tuples\n",
        "A tuple is an ordered, immutable collection of elements. Once created, the elements of a tuple cannot be changed. Tuples are defined using parentheses (()).\n",
        "\n",
        "Features of tuples\n",
        "\n",
        "- Ordered - Elements maintain the order they were added.\n",
        "- Immutable - Elements cannot be modified after creation.\n",
        "- Allow duplicates -Tuples can contain duplicate elements.\n",
        "- Efficient - Tuples consume less memory and are faster than lists for read-only operations."
      ],
      "metadata": {
        "id": "i65mHHTNqV3j"
      }
    },
    {
      "cell_type": "code",
      "source": [
        "# Creating a tuple\n",
        "coordinates = (10.5, 20.3, 30.7)\n",
        "\n",
        "# Accessing elements\n",
        "print(coordinates[1])\n",
        "\n",
        "# Attempting to modify a tuple (raises an error)\n",
        "# coordinates[1] = 25.0  # TypeError: 'tuple' object does not support item assignment\n",
        "\n",
        "# Unpacking a tuple\n",
        "x, y, z = coordinates\n",
        "print(x, y, z)\n",
        "\n",
        "# Using tuples in functions\n",
        "def get_dimensions():\n",
        "    return (1920, 1080)\n",
        "width, height = get_dimensions()\n",
        "print(f\"Width: {width}, Height: {height}\")"
      ],
      "metadata": {
        "id": "2u-tcrlAqiCT",
        "colab": {
          "base_uri": "https://localhost:8080/"
        },
        "outputId": "2b768fb1-0219-46ee-a1d4-c8f40150509c"
      },
      "execution_count": null,
      "outputs": [
        {
          "output_type": "stream",
          "name": "stdout",
          "text": [
            "20.3\n",
            "10.5 20.3 30.7\n",
            "Width: 1920, Height: 1080\n"
          ]
        }
      ]
    },
    {
      "cell_type": "markdown",
      "source": [
        "### Writing and importing functions and modules\n",
        "Functions and modules are fundamental for organizing and reusing code in Python. Functions are blocks of reusable code, while modules group related functions, variables, and classes into separate files"
      ],
      "metadata": {
        "id": "dsjEwPmWuOXk"
      }
    },
    {
      "cell_type": "markdown",
      "source": [
        "#### Functions\n",
        "A function is a block of reusable code that performs a specific task. In Python, functions are categorized based on their purpose and usage. We will focus on built-in and user-define functions.\n",
        "\n",
        "###### Built-in Functions\n",
        "\n",
        "Python comes with a rich set of built-in functions that are ready to use without any imports. Examples include:\n",
        "- Mathematical functions: abs(), round(), pow()\n",
        "- Type conversion functions: int(), float(), str()\n",
        "- Data structure functions: len(), sum(), max(), min()"
      ],
      "metadata": {
        "id": "uQ2XmFu9uVhu"
      }
    },
    {
      "cell_type": "code",
      "source": [
        "# List of elevations (in meters) for various locations\n",
        "elevations = [450, 1200, 950, 1800, 3000, 650]\n",
        "\n",
        "# Use built-in functions to analyze the elevation data\n",
        "highest_elevation = max(elevations)  # Find the maximum elevation\n",
        "lowest_elevation = min(elevations)  # Find the minimum elevation\n",
        "total_locations = len(elevations)   # Count the number of locations\n",
        "average_elevation = sum(elevations) / total_locations  # Calculate the average elevation\n",
        "\n",
        "# Print the results\n",
        "print(f\"Highest elevation: {highest_elevation} meters\")\n",
        "print(f\"Lowest elevation: {lowest_elevation} meters\")\n",
        "print(f\"Number of locations: {total_locations}\")\n",
        "print(f\"Average elevation: {average_elevation:.2f} meters\")\n",
        "\n",
        "type(elevations)"
      ],
      "metadata": {
        "colab": {
          "base_uri": "https://localhost:8080/"
        },
        "id": "WIDnhsLTdbhp",
        "outputId": "1aebf56c-9574-4eb3-d990-b750ac37aa73"
      },
      "execution_count": null,
      "outputs": [
        {
          "output_type": "stream",
          "name": "stdout",
          "text": [
            "Highest elevation: 3000 meters\n",
            "Lowest elevation: 450 meters\n",
            "Number of locations: 6\n",
            "Average elevation: 1341.67 meters\n"
          ]
        },
        {
          "output_type": "execute_result",
          "data": {
            "text/plain": [
              "list"
            ]
          },
          "metadata": {},
          "execution_count": 16
        }
      ]
    },
    {
      "cell_type": "markdown",
      "source": [
        "###### User-defined Functions\n",
        "\n",
        "These are functions that you define yourself to perform specific tasks."
      ],
      "metadata": {
        "id": "Fiz7dcjAdxBZ"
      }
    },
    {
      "cell_type": "code",
      "source": [
        "# Define a function to calculate the area of a plot\n",
        "def calculate_area(length, width):\n",
        "    \"\"\"\n",
        "    Calculate the area of a rectangular region in square meters.\n",
        "    \"\"\"\n",
        "    return length * width\n",
        "\n",
        "# Example usage\n",
        "plot_length = 50  # in meters\n",
        "plot_width = 30   # in meters\n",
        "\n",
        "area = calculate_area(plot_length, plot_width)\n",
        "print(f\"The area of the plot is: {area} square meters\")"
      ],
      "metadata": {
        "colab": {
          "base_uri": "https://localhost:8080/"
        },
        "id": "zm48II5qd516",
        "outputId": "c5401b5d-1bdd-4fa7-e45a-0270677f840d"
      },
      "execution_count": null,
      "outputs": [
        {
          "output_type": "stream",
          "name": "stdout",
          "text": [
            "The area of the plot is: 1500 square meters\n"
          ]
        }
      ]
    },
    {
      "cell_type": "markdown",
      "source": [
        "#### Using built-in modules\n",
        "A module is a single file that contains Python code, including functions, classes, and variables. It can also include runnable code. Modules are designed to organize code into reusable and logical units. Python has numerous built-in modules like math, os, and datetime, and third-party modules like numpy and pandas.\n",
        "\n",
        "Below is an example of using Python's built-in math module, which provides mathematical functions like:\n",
        "- radians: Converts degrees to radians.\n",
        "- sin, cos: Trigonometric functions.\n",
        "- sqrt: Calculates the square root.\n",
        "- atan2: Computes the angle in radians."
      ],
      "metadata": {
        "id": "LydIlx50v7nb"
      }
    },
    {
      "cell_type": "code",
      "source": [
        "# Using an built-in module\n",
        "from math import radians, sin, cos, sqrt, atan2\n",
        "\n",
        "# Define a function to calculate the great-circle distance between two coordinates\n",
        "def calculate_distance(lat1, lon1, lat2, lon2):\n",
        "    \"\"\"\n",
        "    Calculate the distance between two points (lat1, lon1) and (lat2, lon2) in kilometers.\n",
        "    \"\"\"\n",
        "    # Radius of the Earth in kilometers\n",
        "    R = 6371.0\n",
        "\n",
        "    # Convert latitude and longitude from degrees to radians\n",
        "    lat1, lon1, lat2, lon2 = map(radians, [lat1, lon1, lat2, lon2])\n",
        "\n",
        "    # Differences in coordinates\n",
        "    dlat = lat2 - lat1\n",
        "    dlon = lon2 - lon1\n",
        "\n",
        "    # Haversine formula\n",
        "    a = sin(dlat / 2)**2 + cos(lat1) * cos(lat2) * sin(dlon / 2)**2\n",
        "    c = 2 * atan2(sqrt(a), sqrt(1 - a))\n",
        "    distance = R * c\n",
        "\n",
        "    return distance\n",
        "\n",
        "# Example usage\n",
        "harare_coords = (-17.8252, 31.0335)  # Harare, Zimbabwe\n",
        "bulawayo_coords = (-20.1500, 28.5833)  # Bulawayo, Zimbabwe\n",
        "\n",
        "distance = calculate_distance(harare_coords[0], harare_coords[1], bulawayo_coords[0], bulawayo_coords[1])\n",
        "print(f\"Distance between Harare and Bulawayo: {distance:.2f} km\")"
      ],
      "metadata": {
        "colab": {
          "base_uri": "https://localhost:8080/"
        },
        "id": "S86bP5Pky18-",
        "outputId": "1d0ae92c-dbf2-4cc7-ac7c-b7e1810bfddd"
      },
      "execution_count": null,
      "outputs": [
        {
          "output_type": "stream",
          "name": "stdout",
          "text": [
            "Distance between Harare and Bulawayo: 364.94 km\n"
          ]
        }
      ]
    },
    {
      "cell_type": "markdown",
      "source": [
        "### Library\n",
        "A library is a collection of modules packaged together to provide a specific set of functionalities. Libraries can range from a few modules to hundreds of them, designed to help developers perform tasks without having to write code from scratch."
      ],
      "metadata": {
        "id": "0ec8BeLpzrc3"
      }
    },
    {
      "cell_type": "code",
      "source": [
        "# Import numpy\n",
        "import numpy as np\n",
        "\n",
        "# Array of elevations (in meters) for various locations\n",
        "elevations = np.array([450, 1200, 950, 1800, 3000, 650])\n",
        "\n",
        "# Calculate the average elevation\n",
        "average_elevation = np.mean(elevations)\n",
        "\n",
        "# Print results\n",
        "print(f\"Average elevation: {average_elevation:.2f} meters\")"
      ],
      "metadata": {
        "colab": {
          "base_uri": "https://localhost:8080/"
        },
        "id": "K1XTx99uz3Fi",
        "outputId": "8327b688-97bc-481c-dd78-7384a2231422"
      },
      "execution_count": null,
      "outputs": [
        {
          "output_type": "stream",
          "name": "stdout",
          "text": [
            "Average elevation: 1341.67 meters\n"
          ]
        }
      ]
    },
    {
      "cell_type": "markdown",
      "source": [
        "## Best practices for functions and modules\n",
        "- Use descriptive names for functions and modules.\n",
        "- Write docstrings to describe what the function/module does.\n",
        "- Avoid circular imports by structuring code logically.\n",
        "- Reuse and modularize code into smaller modules for better readability and maintainability.\n",
        "- By mastering functions and modules, you can build scalable and efficient Python applications"
      ],
      "metadata": {
        "id": "fW3Fg2tlGaRQ"
      }
    },
    {
      "cell_type": "markdown",
      "source": [
        "By C Kamusoko\n",
        "\n",
        "© Copyright 2024."
      ],
      "metadata": {
        "id": "Y50FkkY_hzmy"
      }
    }
  ]
}